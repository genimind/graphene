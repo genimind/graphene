{
 "cells": [
  {
   "cell_type": "markdown",
   "metadata": {},
   "source": [
    "## This model constuct a networkx graph from data using the following nodes\n",
    "\n",
    "### Nodes:\n",
    "- City: aggregate all stations within a city\n",
    "\n",
    "### Edges:\n",
    "- BikeTrip: bike trip between cities"
   ]
  },
  {
   "cell_type": "code",
   "execution_count": null,
   "metadata": {},
   "outputs": [],
   "source": [
    "import pandas as pd\n",
    "import networkx as nx\n",
    "from pprint import pprint\n",
    "from graphgen import create_graph"
   ]
  },
  {
   "cell_type": "code",
   "execution_count": null,
   "metadata": {},
   "outputs": [],
   "source": [
    "trips_filename = '../data/201508_trip_data.csv'\n",
    "stations_filename = '../data/201508_station_data.csv'\n",
    "\n",
    "trips_df = pd.read_csv(trips_filename)\n",
    "stations_df = pd.read_csv(stations_filename)\n",
    "\n",
    "# if columns have spaces in their names we need to replace them with underscore\n",
    "# fix_columns(trips_df)\n",
    "# fix_columns(stations_df)"
   ]
  },
  {
   "cell_type": "markdown",
   "metadata": {},
   "source": [
    "### We need to adjust the data to allow city to city navigation by combining all stations in a city.\n",
    "### The results will be trips between cities instead of different stations."
   ]
  },
  {
   "cell_type": "code",
   "execution_count": null,
   "metadata": {},
   "outputs": [],
   "source": [
    "display(stations_df.head())"
   ]
  },
  {
   "cell_type": "code",
   "execution_count": null,
   "metadata": {},
   "outputs": [],
   "source": [
    "# we'll name our column to 'city_name' to represent the correct information\n",
    "stations_df.rename(columns={'landmark':'city_name'}, inplace = True)"
   ]
  },
  {
   "cell_type": "code",
   "execution_count": null,
   "metadata": {
    "scrolled": true
   },
   "outputs": [],
   "source": [
    "display(stations_df['city_name'].unique())"
   ]
  },
  {
   "cell_type": "code",
   "execution_count": null,
   "metadata": {},
   "outputs": [],
   "source": [
    "display(trips_df.head())"
   ]
  },
  {
   "cell_type": "code",
   "execution_count": null,
   "metadata": {},
   "outputs": [],
   "source": [
    "# simple test\n",
    "display(stations_df[stations_df.station_id == trips_df.loc[0, 'Start Terminal']]['city_name'])"
   ]
  },
  {
   "cell_type": "code",
   "execution_count": null,
   "metadata": {},
   "outputs": [],
   "source": [
    "city_df = stations_df[['station_id', 'city_name']]\n",
    "city_df.set_index('station_id', inplace=True)\n",
    "station_to_city_dict = city_df['city_name'].to_dict()"
   ]
  },
  {
   "cell_type": "code",
   "execution_count": null,
   "metadata": {},
   "outputs": [],
   "source": [
    "trips_df['Start City'] = trips_df['Start Terminal'].map(station_to_city_dict)\n",
    "trips_df['End City'] = trips_df['End Terminal'].map(station_to_city_dict)"
   ]
  },
  {
   "cell_type": "code",
   "execution_count": null,
   "metadata": {},
   "outputs": [],
   "source": [
    "trips_df.head()"
   ]
  },
  {
   "cell_type": "code",
   "execution_count": null,
   "metadata": {},
   "outputs": [],
   "source": [
    "# we'll rename the 'Start_Terminal' and 'End_Terminal' to 'Start_City' and 'End_City' respectively\n",
    "# trips_df.rename(columns={'Start_Terminal':'Start_City', 'End_Terminal':'End_City'}, inplace = True)\n",
    "\n",
    "# trips_df.head()"
   ]
  },
  {
   "cell_type": "code",
   "execution_count": null,
   "metadata": {},
   "outputs": [],
   "source": [
    "city_mapper = {\n",
    "    'nodes': [\n",
    "        {\n",
    "            'type'      : 'City',\n",
    "            'key'       : [\n",
    "                {'name': 'name', 'raw': 'city_name'}\n",
    "            ],\n",
    "            'attributes': [\n",
    "                {'name': 'name', 'raw': 'city_name'},\n",
    "            ]\n",
    "        },\n",
    "    ]\n",
    "}\n",
    "\n",
    "edges_mapper = {\n",
    "    'edges': [\n",
    "        {\n",
    "            'type'      : 'BikeTrip',\n",
    "            'from'      : {\n",
    "                'type': 'City',\n",
    "                'key' : [\n",
    "                    {'name': 'name', 'raw': 'Start City'}\n",
    "                ]\n",
    "            },\n",
    "            'to'        : {\n",
    "                'type': 'City',\n",
    "                'key' : [\n",
    "                    {'name': 'num', 'raw': 'End City'}\n",
    "                ]\n",
    "            },\n",
    "            'attributes': [\n",
    "                {'name': 'trip_id', 'raw': 'Trip ID'},\n",
    "                {'name': 'start_date', 'raw': 'Start Date'},\n",
    "                {'name': 'end_date', 'raw': 'End Date'},\n",
    "                {'name': 'duration', 'raw': 'Duration'}\n",
    "            ]\n",
    "        },\n",
    "    ]\n",
    "}"
   ]
  },
  {
   "cell_type": "code",
   "execution_count": null,
   "metadata": {},
   "outputs": [],
   "source": [
    "# construct a bidirectional multi-edge graph object\n",
    "g = nx.MultiDiGraph()\n",
    "\n",
    "%time g = create_graph(g, graph_mapper = city_mapper, \\\n",
    "                 data_provider = stations_df, update=False)\n",
    "\n",
    "%time g = create_graph(g, graph_mapper = edges_mapper, \\\n",
    "                 data_provider = trips_df, update=False)\n",
    "\n",
    "\n"
   ]
  },
  {
   "cell_type": "code",
   "execution_count": null,
   "metadata": {},
   "outputs": [],
   "source": [
    "print('nodes:', g.number_of_nodes(), '- edges:', g.number_of_edges())"
   ]
  },
  {
   "cell_type": "code",
   "execution_count": null,
   "metadata": {},
   "outputs": [],
   "source": [
    "display(g.out_degree())\n",
    "display(g.in_degree())"
   ]
  },
  {
   "cell_type": "code",
   "execution_count": null,
   "metadata": {},
   "outputs": [],
   "source": []
  }
 ],
 "metadata": {
  "kernelspec": {
   "display_name": "Python 3",
   "language": "python",
   "name": "python3"
  },
  "language_info": {
   "codemirror_mode": {
    "name": "ipython",
    "version": 3
   },
   "file_extension": ".py",
   "mimetype": "text/x-python",
   "name": "python",
   "nbconvert_exporter": "python",
   "pygments_lexer": "ipython3",
   "version": "3.6.8"
  }
 },
 "nbformat": 4,
 "nbformat_minor": 2
}
