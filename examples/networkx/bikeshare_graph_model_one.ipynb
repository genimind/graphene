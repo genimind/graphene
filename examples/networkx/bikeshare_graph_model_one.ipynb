{
 "cells": [
  {
   "cell_type": "markdown",
   "metadata": {},
   "source": [
    "## This model constuct a networkx graph from data using the following nodes\n",
    "\n",
    "### Nodes:\n",
    "- Station\n",
    "\n",
    "### Edges:\n",
    "- Trip: bike trip between stations"
   ]
  },
  {
   "cell_type": "code",
   "execution_count": null,
   "metadata": {},
   "outputs": [],
   "source": [
    "import pandas as pd\n",
    "import networkx as nx\n",
    "from pprint import pprint\n",
    "from graphgen import create_graph"
   ]
  },
  {
   "cell_type": "code",
   "execution_count": null,
   "metadata": {},
   "outputs": [],
   "source": [
    "trips_filename = '../data//201508_trip_data.csv'\n",
    "stations_filename = '../data/201508_station_data.csv'\n",
    "\n",
    "trips_df = pd.read_csv(trips_filename)\n",
    "stations_df = pd.read_csv(stations_filename)\n",
    "\n",
    "# if columns have spaces in their names we need to replace them with underscore\n",
    "# fix_columns(trips_df)\n",
    "# fix_columns(stations_df)\n"
   ]
  },
  {
   "cell_type": "code",
   "execution_count": null,
   "metadata": {},
   "outputs": [],
   "source": [
    "print(trips_df.columns)\n",
    "# display(trips_df.head())\n",
    "print(stations_df.columns)"
   ]
  },
  {
   "cell_type": "code",
   "execution_count": null,
   "metadata": {},
   "outputs": [],
   "source": [
    "\n",
    "station_mapper = {\n",
    "    'nodes': [\n",
    "        {\n",
    "            'type'      : 'Station',\n",
    "            'key'       : [\n",
    "                {'name': 'id', 'raw': 'station_id'}\n",
    "            ],\n",
    "            'attributes': [\n",
    "                {'name': 'id',       'raw': 'station_id'},\n",
    "                {'name': 'name',     'raw': 'name'},\n",
    "                {'name': 'lat',      'raw': 'lat'},\n",
    "                {'name': 'long',     'raw': 'long'},\n",
    "                {'name': 'landmark', 'raw': 'landmark'}\n",
    "            ]\n",
    "        },\n",
    "    ]\n",
    "}\n",
    "\n",
    "edges_mapper = {\n",
    "    'edges': [\n",
    "        {\n",
    "            'type'      : 'Trip',\n",
    "            'from'      : {\n",
    "                'type': 'Station',\n",
    "                'key' : [\n",
    "                    {'name': 'id', 'raw': 'Start Terminal'}\n",
    "                ]\n",
    "            },\n",
    "            'to'        : {\n",
    "                'type' : 'Station',\n",
    "                'key'  : [\n",
    "                    {'name': 'id', 'raw': 'End Terminal'}\n",
    "                ]\n",
    "            },\n",
    "            'attributes': [\n",
    "                {'name': 'trip_id',    'raw': 'Trip ID'}, \n",
    "                {'name': 'start_date', 'raw': 'Start Date'}, \n",
    "                {'name': 'end_date',   'raw': 'End Date'}\n",
    "            ]\n",
    "        }\n",
    "    ]\n",
    "}"
   ]
  },
  {
   "cell_type": "code",
   "execution_count": null,
   "metadata": {},
   "outputs": [],
   "source": [
    "# %%time\n",
    "\n",
    "# construct a bidirectional multi-edge graph object\n",
    "g = nx.MultiDiGraph()\n",
    "\n",
    "g = create_graph(g, graph_mapper = station_mapper, \n",
    "                 data_provider = stations_df)\n",
    "\n",
    "g = create_graph(g, graph_mapper = edges_mapper, \n",
    "                 data_provider = trips_df)"
   ]
  },
  {
   "cell_type": "code",
   "execution_count": null,
   "metadata": {
    "scrolled": true
   },
   "outputs": [],
   "source": [
    "nx.number_of_nodes(g)"
   ]
  },
  {
   "cell_type": "code",
   "execution_count": null,
   "metadata": {
    "scrolled": true
   },
   "outputs": [],
   "source": [
    "nx.number_of_edges(g)"
   ]
  },
  {
   "cell_type": "code",
   "execution_count": null,
   "metadata": {},
   "outputs": [],
   "source": [
    "print(g.node['Station_2'])"
   ]
  },
  {
   "cell_type": "code",
   "execution_count": null,
   "metadata": {},
   "outputs": [],
   "source": [
    "pprint(g.get_edge_data('Station_2', 'Station_16'))"
   ]
  },
  {
   "cell_type": "code",
   "execution_count": null,
   "metadata": {},
   "outputs": [],
   "source": []
  }
 ],
 "metadata": {
  "kernelspec": {
   "display_name": "Python 3",
   "language": "python",
   "name": "python3"
  },
  "language_info": {
   "codemirror_mode": {
    "name": "ipython",
    "version": 3
   },
   "file_extension": ".py",
   "mimetype": "text/x-python",
   "name": "python",
   "nbconvert_exporter": "python",
   "pygments_lexer": "ipython3",
   "version": "3.6.8"
  }
 },
 "nbformat": 4,
 "nbformat_minor": 2
}
