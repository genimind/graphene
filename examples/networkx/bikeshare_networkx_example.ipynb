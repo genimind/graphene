{
 "cells": [
  {
   "cell_type": "code",
   "execution_count": null,
   "metadata": {},
   "outputs": [],
   "source": [
    "import pandas as pd\n",
    "import networkx as nx"
   ]
  },
  {
   "cell_type": "code",
   "execution_count": null,
   "metadata": {},
   "outputs": [],
   "source": [
    "trips_filename = '../data/201508_trip_data.csv'\n",
    "stations_filename = '../data/201508_station_data.csv'\n",
    "\n",
    "trips_pdf = pd.read_csv(trips_filename)\n",
    "stations_pdf = pd.read_csv(stations_filename)"
   ]
  },
  {
   "cell_type": "code",
   "execution_count": null,
   "metadata": {},
   "outputs": [],
   "source": [
    "display(stations_pdf.head())"
   ]
  },
  {
   "cell_type": "code",
   "execution_count": null,
   "metadata": {},
   "outputs": [],
   "source": [
    "# create nodes from stations.\n",
    "#\n",
    "# although networkx used hashed values for nodes, i.e. we don't need to\n",
    "# have 'id' column, we decided to keep the same format as GraphFrame (PySpark).\n",
    "#\n",
    "stations_pdf = stations_pdf.rename(columns={'station_id':'id'})"
   ]
  },
  {
   "cell_type": "code",
   "execution_count": null,
   "metadata": {},
   "outputs": [],
   "source": [
    "# index on the station id, now we call it 'id'\n",
    "stations_pdf.set_index('id', inplace = True)\n",
    "# display(stations_pdf.head())"
   ]
  },
  {
   "cell_type": "code",
   "execution_count": null,
   "metadata": {},
   "outputs": [],
   "source": [
    "# %%time\n",
    "nodes_dict = stations_pdf.to_dict('index')\n",
    "nodes_list = [x for x in nodes_dict.items()]"
   ]
  },
  {
   "cell_type": "code",
   "execution_count": null,
   "metadata": {},
   "outputs": [],
   "source": [
    "#display(nodes_list)"
   ]
  },
  {
   "cell_type": "code",
   "execution_count": null,
   "metadata": {},
   "outputs": [],
   "source": [
    "display(trips_pdf.tail())"
   ]
  },
  {
   "cell_type": "code",
   "execution_count": null,
   "metadata": {},
   "outputs": [],
   "source": [
    "# pick our set of columns to represent the edges\n",
    "edge_columns = ['Start Terminal', 'End Terminal', 'Trip ID', 'Start Date', 'End Date']\n",
    "\n",
    "trips_edges_pdf = trips_pdf.loc[:,edge_columns]\n",
    "\n",
    "# rename the start and end terminal to 'src' and 'dst'\n",
    "# Although not reqired we'll use the sample column names as the ones used with DataFrame \n",
    "# (PySpark) \"src\" (source vertex ID of edge) and \"dst\" (destination vertex ID of edge).\n",
    "\n",
    "trips_edges_pdf = trips_edges_pdf.rename(columns={'Start Terminal':'src', 'End Terminal':'dst'})\n",
    "trips_edges_pdf.shape"
   ]
  },
  {
   "cell_type": "code",
   "execution_count": null,
   "metadata": {},
   "outputs": [],
   "source": [
    "# display(trips_edges_pdf.head())"
   ]
  },
  {
   "cell_type": "code",
   "execution_count": null,
   "metadata": {},
   "outputs": [],
   "source": [
    "# trips_edges_pdf.loc[0, 'src']"
   ]
  },
  {
   "cell_type": "code",
   "execution_count": null,
   "metadata": {},
   "outputs": [],
   "source": [
    "# %%time\n",
    "edges_list = []\n",
    "for i in range(trips_edges_pdf.shape[0]):\n",
    "    edges_list.append((trips_edges_pdf.loc[i, 'src'], trips_edges_pdf.loc[i, 'dst'], \n",
    "                       {'Start Date': trips_edges_pdf.loc[i, 'Start Date'], \n",
    "                        'End Date': trips_edges_pdf.loc[i, 'End Date']}))"
   ]
  },
  {
   "cell_type": "code",
   "execution_count": null,
   "metadata": {},
   "outputs": [],
   "source": [
    "# edges_list[0]"
   ]
  },
  {
   "cell_type": "code",
   "execution_count": null,
   "metadata": {},
   "outputs": [],
   "source": [
    "%%time\n",
    "g = nx.MultiDiGraph()\n",
    "\n",
    "g.add_nodes_from(nodes_list)\n",
    "\n",
    "g.add_edges_from(edges_list)"
   ]
  },
  {
   "cell_type": "code",
   "execution_count": null,
   "metadata": {
    "scrolled": false
   },
   "outputs": [],
   "source": [
    "%%time\n",
    "g = nx.MultiDiGraph()\n",
    "g.add_nodes_from(nodes_list)\n",
    "for row in trips_edges_pdf.itertuples():\n",
    "    edge = [(row.src, row.dst, \n",
    "                       {'Start Date': row._4, \n",
    "                        'End Date': row._5})]\n",
    "    print(row[3])\n",
    "    break\n",
    "    g.add_edges_from(edge)"
   ]
  },
  {
   "cell_type": "code",
   "execution_count": null,
   "metadata": {},
   "outputs": [],
   "source": [
    "trips_edges_pdf.iloc[1,2:]"
   ]
  },
  {
   "cell_type": "code",
   "execution_count": null,
   "metadata": {},
   "outputs": [],
   "source": [
    "g.nodes[3]"
   ]
  },
  {
   "cell_type": "code",
   "execution_count": null,
   "metadata": {},
   "outputs": [],
   "source": [
    "type(g.node)"
   ]
  },
  {
   "cell_type": "code",
   "execution_count": null,
   "metadata": {},
   "outputs": [],
   "source": [
    "# g.get_edge_data(3,4, default=0)"
   ]
  },
  {
   "cell_type": "code",
   "execution_count": null,
   "metadata": {
    "scrolled": true
   },
   "outputs": [],
   "source": [
    "# g.edges(data=True)[0:5]"
   ]
  },
  {
   "cell_type": "code",
   "execution_count": null,
   "metadata": {},
   "outputs": [],
   "source": [
    "#import matplotlib.pyplot as plt"
   ]
  },
  {
   "cell_type": "code",
   "execution_count": null,
   "metadata": {},
   "outputs": [],
   "source": [
    "# plt.subplot(121)\n",
    "# nx.draw(g, with_labels=True, font_weight='bold')\n",
    "# plt.show()"
   ]
  },
  {
   "cell_type": "code",
   "execution_count": null,
   "metadata": {
    "scrolled": true
   },
   "outputs": [],
   "source": [
    "x = g.in_degree()\n",
    "\n",
    "sorted(x, key=lambda x:x[1], reverse=True)"
   ]
  },
  {
   "cell_type": "code",
   "execution_count": null,
   "metadata": {},
   "outputs": [],
   "source": [
    "print('node {} degrees - in:{}, out;{}'.format(70, g.in_degree(70), g.out_degree(70)))"
   ]
  },
  {
   "cell_type": "code",
   "execution_count": null,
   "metadata": {},
   "outputs": [],
   "source": [
    "# from networkx.algorithms import community\n",
    "\n",
    "# three_nodes_gen = community.k_clique_communities(g, 3)\n",
    "\n",
    "# group = next(three_nodes_gen)\n",
    "# count = 0\n",
    "# while group:\n",
    "#     group = next(three_nodes_gen)\n",
    "#     count += 1"
   ]
  },
  {
   "cell_type": "code",
   "execution_count": null,
   "metadata": {
    "scrolled": true
   },
   "outputs": [],
   "source": [
    "# attempt in finding motif of three nodes.\n",
    "# import itertools\n",
    "\n",
    "# # find 3 nodes subgraphs\n",
    "# target = nx.MultiDiGraph()\n",
    "# target.add_edge(1,2)\n",
    "# target.add_edge(2,3)\n",
    "\n",
    "# count = 0\n",
    "# for sub_nodes in itertools.combinations(g.nodes(),len(target.nodes())):\n",
    "#     subg = g.subgraph(sub_nodes)\n",
    "#     if nx.is_weakly_connected(subg) and nx.is_isomorphic(subg, target):\n",
    "#         print(subg.edges())\n",
    "#         count += 1"
   ]
  },
  {
   "cell_type": "code",
   "execution_count": null,
   "metadata": {},
   "outputs": [],
   "source": [
    "df_adjacency = nx.to_pandas_adjacency(g)\n",
    "df_edgelist = nx.to_pandas_edgelist(g)"
   ]
  },
  {
   "cell_type": "code",
   "execution_count": null,
   "metadata": {},
   "outputs": [],
   "source": [
    "display(df_adjacency.head())"
   ]
  },
  {
   "cell_type": "code",
   "execution_count": null,
   "metadata": {},
   "outputs": [],
   "source": [
    "display(df_edgelist.head())"
   ]
  },
  {
   "cell_type": "code",
   "execution_count": null,
   "metadata": {},
   "outputs": [],
   "source": [
    "df_edgelist.shape"
   ]
  },
  {
   "cell_type": "code",
   "execution_count": null,
   "metadata": {
    "scrolled": true
   },
   "outputs": [],
   "source": [
    "centrality = nx.centrality.betweenness_centrality(g)\n",
    "sorted(centrality.items(), key=lambda kv: kv[1], reverse=True)"
   ]
  },
  {
   "cell_type": "code",
   "execution_count": null,
   "metadata": {},
   "outputs": [],
   "source": []
  }
 ],
 "metadata": {
  "kernelspec": {
   "display_name": "Python 3",
   "language": "python",
   "name": "python3"
  },
  "language_info": {
   "codemirror_mode": {
    "name": "ipython",
    "version": 3
   },
   "file_extension": ".py",
   "mimetype": "text/x-python",
   "name": "python",
   "nbconvert_exporter": "python",
   "pygments_lexer": "ipython3",
   "version": "3.6.8"
  }
 },
 "nbformat": 4,
 "nbformat_minor": 2
}
