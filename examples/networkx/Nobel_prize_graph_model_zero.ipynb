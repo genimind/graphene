{
 "cells": [
  {
   "cell_type": "markdown",
   "metadata": {},
   "source": [
    "## Building simple graph using Nobel_prize JSON data\n",
    "#### we just use simple edges as connections, and graph is formed of a set of cliques based on the records"
   ]
  },
  {
   "cell_type": "code",
   "execution_count": 4,
   "metadata": {},
   "outputs": [],
   "source": [
    "import json\n",
    "import pandas as pd\n",
    "import networkx as nx\n",
    "from graphgen import create_graph\n",
    "from pprint import pprint\n",
    "\n",
    "file1 = '../data/Nobel_prize.json'\n",
    "file2 = '../data/Nobel_laureate.json'\n",
    "file3 = '../data/Nobel_country.json' # this file has simple json structure"
   ]
  },
  {
   "cell_type": "code",
   "execution_count": 5,
   "metadata": {},
   "outputs": [],
   "source": [
    "with open(file2) as json_file:\n",
    "    json_data2 = json.load(json_file)"
   ]
  },
  {
   "cell_type": "code",
   "execution_count": 6,
   "metadata": {},
   "outputs": [
    {
     "data": {
      "text/plain": [
       "{'id': '103',\n",
       " 'firstname': 'Ben Roy',\n",
       " 'surname': 'Mottelson',\n",
       " 'born': '1926-07-09',\n",
       " 'died': '0000-00-00',\n",
       " 'bornCountry': 'USA',\n",
       " 'bornCountryCode': 'US',\n",
       " 'bornCity': 'Chicago, IL',\n",
       " 'gender': 'male',\n",
       " 'prizes': [{'year': '1975',\n",
       "   'category': 'physics',\n",
       "   'share': '3',\n",
       "   'motivation': '\"for the discovery of the connection between collective motion and particle motion in atomic nuclei and the development of the theory of the structure of the atomic nucleus based on this connection\"',\n",
       "   'affiliations': [{'name': 'Nordita',\n",
       "     'city': 'Copenhagen',\n",
       "     'country': 'Denmark'}]}]}"
      ]
     },
     "execution_count": 6,
     "metadata": {},
     "output_type": "execute_result"
    }
   ],
   "source": [
    "json_data2['laureates'][100]"
   ]
  },
  {
   "cell_type": "code",
   "execution_count": null,
   "metadata": {},
   "outputs": [],
   "source": [
    "nodes_mapper = {\n",
    "    'nodes': [\n",
    "        {\n",
    "            'type': 'Affiliations',\n",
    "            'path': '/prizes/affiliations',\n",
    "            'key' : [\n",
    "                {'name': 'name', 'raw': '/prizes/affiliations/name'}\n",
    "            ],\n",
    "        },\n",
    "        {\n",
    "            'type': 'Prize',\n",
    "            'path': '/prizes',\n",
    "            'key' : [\n",
    "                {'name': 'category', 'raw': '/prizes/category'}\n",
    "            ],\n",
    "            'attributes': [\n",
    "                {'name': 'category', 'raw': '/prizes/category'},\n",
    "            ]\n",
    "        }\n",
    "    ]\n",
    "}\n",
    "# this model doesn't have any specific edge, just connect all nodes in each record (clique)\n",
    "clique_mapper = {\n",
    "    'cliques': [\n",
    "        {\n",
    "            'type': '__default__',\n",
    "            'nodes': [\n",
    "                {\n",
    "                    'type': 'Affiliations',\n",
    "                    'path': '/prizes/affiliations',\n",
    "                    'key' : [\n",
    "                        {'name': 'name', 'raw': '/prizes/affiliations/name'}\n",
    "                    ]\n",
    "                },\n",
    "                {\n",
    "                    'type': 'Prize',\n",
    "                    'path': '/prizes',\n",
    "                    'key' : [\n",
    "                        {'name': 'category', 'raw': '/prizes/category'}\n",
    "                    ]\n",
    "                },\n",
    "            ]\n",
    "        }\n",
    "    ]\n",
    "}"
   ]
  },
  {
   "cell_type": "code",
   "execution_count": null,
   "metadata": {},
   "outputs": [],
   "source": [
    "g = nx.MultiGraph()\n",
    "\n",
    "g = create_graph(g, graph_mapper = nodes_mapper, \n",
    "                 data_provider = json_data2['laureates'])\n",
    "\n",
    "g = create_graph(g, graph_mapper = clique_mapper, \n",
    "                 data_provider = json_data2['laureates'])"
   ]
  },
  {
   "cell_type": "code",
   "execution_count": null,
   "metadata": {},
   "outputs": [],
   "source": [
    "type(g)"
   ]
  },
  {
   "cell_type": "code",
   "execution_count": null,
   "metadata": {},
   "outputs": [],
   "source": [
    "nx.number_of_nodes(g)"
   ]
  },
  {
   "cell_type": "code",
   "execution_count": null,
   "metadata": {
    "scrolled": false
   },
   "outputs": [],
   "source": [
    "nx.number_of_edges(g)"
   ]
  },
  {
   "cell_type": "code",
   "execution_count": null,
   "metadata": {
    "scrolled": true
   },
   "outputs": [],
   "source": [
    "pprint(json_data2['laureates'][216])"
   ]
  },
  {
   "cell_type": "code",
   "execution_count": null,
   "metadata": {},
   "outputs": [],
   "source": [
    "print(g.node['Affiliations_University of Cambridge'])"
   ]
  },
  {
   "cell_type": "code",
   "execution_count": null,
   "metadata": {},
   "outputs": [],
   "source": [
    "print(g.node['Prize_chemistry'])\n",
    "print(g.node['Prize_physics'])"
   ]
  },
  {
   "cell_type": "code",
   "execution_count": null,
   "metadata": {},
   "outputs": [],
   "source": [
    "pprint(g.get_edge_data('Affiliations_University of Cambridge', 'Prize_chemistry'))"
   ]
  },
  {
   "cell_type": "code",
   "execution_count": null,
   "metadata": {},
   "outputs": [],
   "source": [
    "pprint(g.get_edge_data('Prize_chemistry', 'Affiliations_University of Cambridge'))"
   ]
  },
  {
   "cell_type": "code",
   "execution_count": null,
   "metadata": {},
   "outputs": [],
   "source": []
  }
 ],
 "metadata": {
  "kernelspec": {
   "display_name": "Python 3",
   "language": "python",
   "name": "python3"
  },
  "language_info": {
   "codemirror_mode": {
    "name": "ipython",
    "version": 3
   },
   "file_extension": ".py",
   "mimetype": "text/x-python",
   "name": "python",
   "nbconvert_exporter": "python",
   "pygments_lexer": "ipython3",
   "version": "3.6.9"
  }
 },
 "nbformat": 4,
 "nbformat_minor": 2
}
