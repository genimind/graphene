{
 "cells": [
  {
   "cell_type": "markdown",
   "metadata": {},
   "source": [
    "## Building simple graph using Nobel_prize JSON data\n",
    "#### we just use simple edges as connections."
   ]
  },
  {
   "cell_type": "code",
   "execution_count": 1,
   "metadata": {},
   "outputs": [],
   "source": [
    "import json\n",
    "import pandas as pd\n",
    "\n",
    "file1 = '../data/Nobel_prize.json'\n",
    "file2 = '../data/Nobel_laureate.json'\n",
    "file3 = '../data/Nobel_country.json' # this file has simple json structure"
   ]
  },
  {
   "cell_type": "code",
   "execution_count": 2,
   "metadata": {},
   "outputs": [],
   "source": [
    "with open(file1) as json_file:\n",
    "    json_data1 = json.load(json_file)\n",
    "# json_data"
   ]
  },
  {
   "cell_type": "code",
   "execution_count": 3,
   "metadata": {},
   "outputs": [
    {
     "data": {
      "text/plain": [
       "[{'id': '960',\n",
       "  'firstname': 'Arthur',\n",
       "  'surname': 'Ashkin',\n",
       "  'motivation': '\"for the optical tweezers and their application to biological systems\"',\n",
       "  'share': '2'},\n",
       " {'id': '961',\n",
       "  'firstname': 'Gérard',\n",
       "  'surname': 'Mourou',\n",
       "  'motivation': '\"for their method of generating high-intensity, ultra-short optical pulses\"',\n",
       "  'share': '4'},\n",
       " {'id': '962',\n",
       "  'firstname': 'Donna',\n",
       "  'surname': 'Strickland',\n",
       "  'motivation': '\"for their method of generating high-intensity, ultra-short optical pulses\"',\n",
       "  'share': '4'}]"
      ]
     },
     "execution_count": 3,
     "metadata": {},
     "output_type": "execute_result"
    }
   ],
   "source": [
    "json_data1['prizes'][0]['laureates']"
   ]
  },
  {
   "cell_type": "code",
   "execution_count": 4,
   "metadata": {},
   "outputs": [],
   "source": [
    "with open(file2) as json_file:\n",
    "    json_data2 = json.load(json_file)"
   ]
  },
  {
   "cell_type": "code",
   "execution_count": 5,
   "metadata": {},
   "outputs": [
    {
     "data": {
      "text/plain": [
       "{'id': '103',\n",
       " 'firstname': 'Ben Roy',\n",
       " 'surname': 'Mottelson',\n",
       " 'born': '1926-07-09',\n",
       " 'died': '0000-00-00',\n",
       " 'bornCountry': 'USA',\n",
       " 'bornCountryCode': 'US',\n",
       " 'bornCity': 'Chicago, IL',\n",
       " 'gender': 'male',\n",
       " 'prizes': [{'year': '1975',\n",
       "   'category': 'physics',\n",
       "   'share': '3',\n",
       "   'motivation': '\"for the discovery of the connection between collective motion and particle motion in atomic nuclei and the development of the theory of the structure of the atomic nucleus based on this connection\"',\n",
       "   'affiliations': [{'name': 'Nordita',\n",
       "     'city': 'Copenhagen',\n",
       "     'country': 'Denmark'}]}]}"
      ]
     },
     "execution_count": 5,
     "metadata": {},
     "output_type": "execute_result"
    }
   ],
   "source": [
    "json_data2['laureates'][100]"
   ]
  },
  {
   "cell_type": "code",
   "execution_count": 6,
   "metadata": {},
   "outputs": [],
   "source": [
    "import networkx as nx\n",
    "from pprint import pprint\n",
    "from graphgen import create_graph"
   ]
  },
  {
   "cell_type": "code",
   "execution_count": 7,
   "metadata": {},
   "outputs": [],
   "source": [
    "nodes_mapper = {\n",
    "    'nodes': [\n",
    "        {\n",
    "            'type': 'Affiliations',\n",
    "            'path': '/prizes/affiliations',\n",
    "            'key' : [\n",
    "                {'name': 'name', 'raw': '/prizes/affiliations/name'}\n",
    "            ],\n",
    "            'attributes': [\n",
    "                {'name': 'name',    'raw': '/prizes/affiliations/name'},\n",
    "                {'name': 'city',    'raw': '/prizes/affiliations/city'},\n",
    "                {'name': 'country', 'raw': '/prizes/affiliations/country'},\n",
    "            ]\n",
    "        },\n",
    "        {\n",
    "            'type': 'Prize',\n",
    "            'path': '/prizes',\n",
    "            'key' : [\n",
    "                {'name': 'category', 'raw': '/prizes/category'}\n",
    "            ],\n",
    "            'attributes': [\n",
    "                {'name': 'category', 'raw': '/prizes/category'},\n",
    "            ]\n",
    "        }\n",
    "    ]\n",
    "}\n",
    "edges_mapper = {\n",
    "    'edges': [\n",
    "        {\n",
    "            'type': 'Awarded',\n",
    "            'from': {\n",
    "                'type': 'Affiliations',\n",
    "                'path': '/prizes/affiliations',\n",
    "                'key' : [\n",
    "                    {'name': 'name', 'raw': '/prizes/affiliations/name'}\n",
    "                ]\n",
    "            },\n",
    "            'to'  : {\n",
    "                'type': 'Prize',\n",
    "                'path': '/prizes',\n",
    "                'key' : [\n",
    "                    {'name': 'category', 'raw': '/prizes/category'}\n",
    "                ]\n",
    "            },\n",
    "#             'attributes': [\n",
    "#                 {'name': 'year', 'raw': '/prizes/year'}, \n",
    "#             ]\n",
    "        }\n",
    "    ]\n",
    "}"
   ]
  },
  {
   "cell_type": "code",
   "execution_count": 8,
   "metadata": {},
   "outputs": [
    {
     "name": "stdout",
     "output_type": "stream",
     "text": [
      "type: /prizes/affiliations/ - 753\n",
      "type: /prizes/ - 941\n",
      "type: /prizes/affiliations/ -> /prizes/ - 753\n"
     ]
    }
   ],
   "source": [
    "g = nx.MultiGraph()\n",
    "\n",
    "g = create_graph(g, graph_mapper = nodes_mapper, \n",
    "                 data_provider = json_data2['laureates'])\n",
    "\n",
    "g = create_graph(g, graph_mapper = edges_mapper, \n",
    "                 data_provider = json_data2['laureates'])"
   ]
  },
  {
   "cell_type": "code",
   "execution_count": 9,
   "metadata": {},
   "outputs": [
    {
     "data": {
      "text/plain": [
       "networkx.classes.multigraph.MultiGraph"
      ]
     },
     "execution_count": 9,
     "metadata": {},
     "output_type": "execute_result"
    }
   ],
   "source": [
    "type(g)"
   ]
  },
  {
   "cell_type": "code",
   "execution_count": 10,
   "metadata": {},
   "outputs": [
    {
     "data": {
      "text/plain": [
       "341"
      ]
     },
     "execution_count": 10,
     "metadata": {},
     "output_type": "execute_result"
    }
   ],
   "source": [
    "nx.number_of_nodes(g)"
   ]
  },
  {
   "cell_type": "code",
   "execution_count": 11,
   "metadata": {
    "scrolled": false
   },
   "outputs": [
    {
     "data": {
      "text/plain": [
       "753"
      ]
     },
     "execution_count": 11,
     "metadata": {},
     "output_type": "execute_result"
    }
   ],
   "source": [
    "nx.number_of_edges(g)"
   ]
  },
  {
   "cell_type": "code",
   "execution_count": 12,
   "metadata": {
    "scrolled": true
   },
   "outputs": [
    {
     "name": "stdout",
     "output_type": "stream",
     "text": [
      "{'born': '1907-10-02',\n",
      " 'bornCity': 'Glasgow',\n",
      " 'bornCountry': 'Scotland',\n",
      " 'bornCountryCode': 'GB',\n",
      " 'died': '1997-01-10',\n",
      " 'diedCity': 'Cambridge',\n",
      " 'diedCountry': 'United Kingdom',\n",
      " 'diedCountryCode': 'GB',\n",
      " 'firstname': 'Lord (Alexander R.)',\n",
      " 'gender': 'male',\n",
      " 'id': '221',\n",
      " 'prizes': [{'affiliations': [{'city': 'Cambridge',\n",
      "                               'country': 'United Kingdom',\n",
      "                               'name': 'University of Cambridge'}],\n",
      "             'category': 'chemistry',\n",
      "             'motivation': '\"for his work on nucleotides and nucleotide '\n",
      "                           'co-enzymes\"',\n",
      "             'share': '1',\n",
      "             'year': '1957'}],\n",
      " 'surname': 'Todd'}\n"
     ]
    }
   ],
   "source": [
    "pprint(json_data2['laureates'][216])"
   ]
  },
  {
   "cell_type": "code",
   "execution_count": 13,
   "metadata": {},
   "outputs": [
    {
     "name": "stdout",
     "output_type": "stream",
     "text": [
      "{'_type_': 'Affiliations', 'name': 'University of Cambridge', 'city': 'Cambridge', 'country': 'United Kingdom'}\n"
     ]
    }
   ],
   "source": [
    "print(g.node['Affiliations_University of Cambridge'])"
   ]
  },
  {
   "cell_type": "code",
   "execution_count": 14,
   "metadata": {},
   "outputs": [
    {
     "name": "stdout",
     "output_type": "stream",
     "text": [
      "{'_type_': 'Prize', 'category': 'chemistry'}\n",
      "{'_type_': 'Prize', 'category': 'physics'}\n"
     ]
    }
   ],
   "source": [
    "print(g.node['Prize_chemistry'])\n",
    "print(g.node['Prize_physics'])"
   ]
  },
  {
   "cell_type": "code",
   "execution_count": 15,
   "metadata": {},
   "outputs": [
    {
     "name": "stdout",
     "output_type": "stream",
     "text": [
      "{0: {'_type_': 'Awarded'}, 1: {'_type_': 'Awarded'}, 2: {'_type_': 'Awarded'}}\n"
     ]
    }
   ],
   "source": [
    "pprint(g.get_edge_data('Affiliations_University of Cambridge', 'Prize_chemistry'))"
   ]
  },
  {
   "cell_type": "code",
   "execution_count": 16,
   "metadata": {},
   "outputs": [
    {
     "name": "stdout",
     "output_type": "stream",
     "text": [
      "{0: {'_type_': 'Awarded'}, 1: {'_type_': 'Awarded'}, 2: {'_type_': 'Awarded'}}\n"
     ]
    }
   ],
   "source": [
    "pprint(g.get_edge_data('Prize_chemistry', 'Affiliations_University of Cambridge'))"
   ]
  },
  {
   "cell_type": "code",
   "execution_count": null,
   "metadata": {},
   "outputs": [],
   "source": []
  }
 ],
 "metadata": {
  "kernelspec": {
   "display_name": "Python 3",
   "language": "python",
   "name": "python3"
  },
  "language_info": {
   "codemirror_mode": {
    "name": "ipython",
    "version": 3
   },
   "file_extension": ".py",
   "mimetype": "text/x-python",
   "name": "python",
   "nbconvert_exporter": "python",
   "pygments_lexer": "ipython3",
   "version": "3.6.9"
  }
 },
 "nbformat": 4,
 "nbformat_minor": 2
}
