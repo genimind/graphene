{
 "cells": [
  {
   "cell_type": "markdown",
   "metadata": {},
   "source": [
    "## Building graph using Nobel_prize JSON data"
   ]
  },
  {
   "cell_type": "code",
   "execution_count": null,
   "metadata": {},
   "outputs": [],
   "source": [
    "import json\n",
    "import pandas as pd\n",
    "\n",
    "file1 = '../data/Nobel_prize.json'\n",
    "file2 = '../data/Nobel_laureate.json'\n",
    "file3 = '../data/Nobel_country.json' # this file has simple json structure"
   ]
  },
  {
   "cell_type": "code",
   "execution_count": null,
   "metadata": {},
   "outputs": [],
   "source": [
    "with open(file1) as json_file:\n",
    "    json_data1 = json.load(json_file)\n",
    "# json_data"
   ]
  },
  {
   "cell_type": "code",
   "execution_count": null,
   "metadata": {},
   "outputs": [],
   "source": [
    "# from pandas.io.json import json_normalize\n",
    "\n",
    "# # this is not practical for the this json data\n",
    "# df = json_normalize(json_data1, 'prizes')\n",
    "# df.head()"
   ]
  },
  {
   "cell_type": "code",
   "execution_count": null,
   "metadata": {},
   "outputs": [],
   "source": [
    "json_data1['prizes'][0]['laureates']"
   ]
  },
  {
   "cell_type": "code",
   "execution_count": null,
   "metadata": {},
   "outputs": [],
   "source": [
    "with open(file2) as json_file:\n",
    "    json_data2 = json.load(json_file)"
   ]
  },
  {
   "cell_type": "code",
   "execution_count": null,
   "metadata": {},
   "outputs": [],
   "source": [
    "json_data2['laureates'][100]"
   ]
  },
  {
   "cell_type": "code",
   "execution_count": null,
   "metadata": {},
   "outputs": [],
   "source": [
    "# with open(file3) as json_file:\n",
    "#     json_data3 = json.load(json_file)\n",
    "\n",
    "# json_data3['countries']"
   ]
  },
  {
   "cell_type": "code",
   "execution_count": null,
   "metadata": {},
   "outputs": [],
   "source": [
    "import networkx as nx\n",
    "from pprint import pprint\n",
    "from graphene import graphgen"
   ]
  },
  {
   "cell_type": "code",
   "execution_count": null,
   "metadata": {},
   "outputs": [],
   "source": [
    "import graphene\n",
    "print(graphene.__version__)"
   ]
  },
  {
   "cell_type": "code",
   "execution_count": null,
   "metadata": {},
   "outputs": [],
   "source": [
    "nodes_mapper = {\n",
    "    \"nodes\": [\n",
    "        {\n",
    "            \"type\": \"Affiliations\",\n",
    "            \"path\": \"/prizes/affiliations\",\n",
    "            \"key\" : [\n",
    "                {\"name\": \"name\", \"raw\": \"/prizes/affiliations/name\"}\n",
    "            ],\n",
    "            \"attributes\": [\n",
    "                {\"name\": \"name\",    \"raw\": \"/prizes/affiliations/name\"},\n",
    "                {\"name\": \"city\",    \"raw\": \"/prizes/affiliations/city\"},\n",
    "                {\"name\": \"country\", \"raw\": \"/prizes/affiliations/country\"},\n",
    "            ]\n",
    "        },\n",
    "        {\n",
    "            \"type\": \"Prize\",\n",
    "            \"path\": \"/prizes\",\n",
    "            \"key\" : [\n",
    "                {\"name\": \"category\", \"raw\": \"/prizes/category\"}\n",
    "            ],\n",
    "            \"attributes\": [\n",
    "                {\"name\": \"category\", \"raw\": \"/prizes/category\"},\n",
    "            ]\n",
    "        }\n",
    "    ]\n",
    "}\n",
    "edges_mapper = {\n",
    "    \"edges\": [\n",
    "        {\n",
    "            \"type\": \"Awarded\",\n",
    "            \"from\": {\n",
    "                \"type\": \"Affiliations\",\n",
    "                \"path\": \"/prizes/affiliations\",\n",
    "                \"key\" : [\n",
    "                    {\"name\": \"name\", \"raw\": \"/prizes/affiliations/name\"}\n",
    "                ]\n",
    "            },\n",
    "            \"to\"  : {\n",
    "                \"type\": \"Prize\",\n",
    "                \"path\": \"/prizes\",\n",
    "                \"key\" : [\n",
    "                    {\"name\": \"category\", \"raw\": \"/prizes/category\"}\n",
    "                ]\n",
    "            },\n",
    "            \"attributes\": [\n",
    "                {\"name\": \"year\", \"raw\": \"/prizes/year\"}, \n",
    "            ]\n",
    "        }\n",
    "    ]\n",
    "}"
   ]
  },
  {
   "cell_type": "code",
   "execution_count": null,
   "metadata": {},
   "outputs": [],
   "source": [
    "g = nx.MultiDiGraph()\n",
    "\n",
    "g = graphgen.create_graph(g, graph_mapper = nodes_mapper, \n",
    "                 data_provider = json_data2['laureates'], add_type_to_key=True)\n",
    "\n",
    "g = graphgen.create_graph(g, graph_mapper = edges_mapper, \n",
    "                 data_provider = json_data2['laureates'], add_type_to_key=True)"
   ]
  },
  {
   "cell_type": "code",
   "execution_count": null,
   "metadata": {},
   "outputs": [],
   "source": [
    "type(g)"
   ]
  },
  {
   "cell_type": "code",
   "execution_count": null,
   "metadata": {},
   "outputs": [],
   "source": [
    "nx.number_of_nodes(g)"
   ]
  },
  {
   "cell_type": "code",
   "execution_count": null,
   "metadata": {
    "scrolled": false
   },
   "outputs": [],
   "source": [
    "nx.number_of_edges(g)"
   ]
  },
  {
   "cell_type": "code",
   "execution_count": null,
   "metadata": {
    "scrolled": true
   },
   "outputs": [],
   "source": [
    "pprint(json_data2['laureates'][216])"
   ]
  },
  {
   "cell_type": "code",
   "execution_count": null,
   "metadata": {},
   "outputs": [],
   "source": [
    "print(g.node[('Affiliations', 'University of Cambridge',)])"
   ]
  },
  {
   "cell_type": "code",
   "execution_count": null,
   "metadata": {},
   "outputs": [],
   "source": [
    "print(g.node[('Prize','chemistry',)])\n",
    "print(g.node[('Prize', 'physics')])"
   ]
  },
  {
   "cell_type": "code",
   "execution_count": null,
   "metadata": {},
   "outputs": [],
   "source": [
    "pprint(g.get_edge_data(('Affiliations', 'University of Cambridge'), ('Prize', 'chemistry')))"
   ]
  },
  {
   "cell_type": "code",
   "execution_count": null,
   "metadata": {},
   "outputs": [],
   "source": [
    "pprint(g.get_edge_data(('Prize', 'chemistry'), ('Affiliations', 'University of Cambridge')))"
   ]
  },
  {
   "cell_type": "code",
   "execution_count": null,
   "metadata": {},
   "outputs": [],
   "source": [
    "pprint(g.get_edge_data(('Affiliations', 'Munich University'), ('Prize', 'physics')))"
   ]
  },
  {
   "cell_type": "code",
   "execution_count": null,
   "metadata": {},
   "outputs": [],
   "source": []
  }
 ],
 "metadata": {
  "kernelspec": {
   "display_name": "Python 3",
   "language": "python",
   "name": "python3"
  },
  "language_info": {
   "codemirror_mode": {
    "name": "ipython",
    "version": 3
   },
   "file_extension": ".py",
   "mimetype": "text/x-python",
   "name": "python",
   "nbconvert_exporter": "python",
   "pygments_lexer": "ipython3",
   "version": "3.6.9"
  }
 },
 "nbformat": 4,
 "nbformat_minor": 2
}
